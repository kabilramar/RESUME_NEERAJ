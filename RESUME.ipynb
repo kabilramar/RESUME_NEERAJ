{
  "nbformat": 4,
  "nbformat_minor": 0,
  "metadata": {
    "colab": {
      "provenance": [],
      "authorship_tag": "ABX9TyPm4AL4uJwtLFdiNF16HtI1",
      "include_colab_link": true
    },
    "kernelspec": {
      "name": "python3",
      "display_name": "Python 3"
    },
    "language_info": {
      "name": "python"
    }
  },
  "cells": [
    {
      "cell_type": "markdown",
      "metadata": {
        "id": "view-in-github",
        "colab_type": "text"
      },
      "source": [
        "<a href=\"https://colab.research.google.com/github/kabilramar/RESUME_NEERAJ/blob/main/RESUME.ipynb\" target=\"_parent\"><img src=\"https://colab.research.google.com/assets/colab-badge.svg\" alt=\"Open In Colab\"/></a>"
      ]
    },
    {
      "cell_type": "code",
      "execution_count": 26,
      "metadata": {
        "colab": {
          "base_uri": "https://localhost:8080/"
        },
        "id": "du-p46sv7JHv",
        "outputId": "7c98eef2-d99b-496d-fd13-950fecbbf3ba"
      },
      "outputs": [
        {
          "output_type": "stream",
          "name": "stdout",
          "text": [
            "11\n",
            "5\n",
            "Skills found: [['Python', 'Java', 'C', 'power BI', 'JS'], 11]\n",
            "Resume Score: 22.0\n"
          ]
        }
      ],
      "source": [
        "import spacy\n",
        "nlp = spacy.load(\"en_core_web_sm\")\n",
        "\n",
        "from pdfminer.high_level import extract_text\n",
        "\n",
        "def extract_resume_text(file_path):\n",
        "    text = extract_text(file_path)\n",
        "    return text\n",
        "import re\n",
        "\n",
        "def extract_skills(resume_text):\n",
        "\n",
        "    skills = ['Python', 'Machine Learning', 'Data Analysis', 'SQL', 'Java','C','power BI',\n",
        "              'Tableau','angular','JS','pHP']\n",
        "    found_skills = []\n",
        "    n=len(skills)\n",
        "    for skill in skills:\n",
        "        if re.search(rf'\\b{skill}\\b', resume_text, re.IGNORECASE):\n",
        "            found_skills.append(skill)\n",
        "    return [found_skills,n]\n",
        "\n",
        "def rate_resume(skills_found):\n",
        "\n",
        "    values = skills_found\n",
        "    max_score = 10\n",
        "    v=values[1]\n",
        "    print(v)\n",
        "    print(len(skills_found[0]))\n",
        "    score_per_skill = v / len(skills_found[0]) if skills_found[0] else 0\n",
        "    return score_per_skill\n",
        "resume_path = 'kabil.pdf'\n",
        "resume_text = extract_resume_text(resume_path)\n",
        "skills = extract_skills(resume_text)\n",
        "resume_score = rate_resume(skills)\n",
        "\n",
        "print(\"Skills found:\", skills)\n",
        "print(\"Resume Score:\", resume_score*10)"
      ]
    }
  ]
}